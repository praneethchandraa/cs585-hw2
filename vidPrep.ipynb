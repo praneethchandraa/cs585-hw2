{
 "cells": [
  {
   "cell_type": "code",
   "execution_count": 1,
   "id": "touched-election",
   "metadata": {},
   "outputs": [],
   "source": [
    "import cv2\n",
    "import numpy as np\n",
    "\n",
    "from utils import displayImage, snap"
   ]
  },
  {
   "cell_type": "code",
   "execution_count": 2,
   "id": "opposite-scott",
   "metadata": {},
   "outputs": [],
   "source": [
    "# Preprocessing the template Image\n",
    "\n",
    "\n",
    "def templatePrep(imgP, e1, d1, e2, d2):\n",
    "    \n",
    "    img = cv2.imread(imgP)\n",
    "    gray = cv2.cvtColor(img, cv2.COLOR_BGR2GRAY)\n",
    "    thresh, threshImage = cv2.threshold(gray,0,255,cv2.THRESH_BINARY+cv2.THRESH_OTSU)\n",
    "    mask = (threshImage>0).astype('uint8')\n",
    "    kernel = np.ones((5,5),np.uint8)\n",
    "#     mask = cv2.erode(mask,kernel,iterations = e1)\n",
    "    mask = cv2.dilate(mask,kernel,iterations = d1)\n",
    "    \n",
    "#     thresh, threshImage = cv2.threshold(mask*gray,0,255,cv2.THRESH_BINARY+cv2.THRESH_OTSU)\n",
    "#     mask = (threshImage>0).astype('uint8')\n",
    "#     mask = cv2.erode(mask,kernel,iterations = e2)\n",
    "#     mask = cv2.dilate(mask,kernel,iterations = d2)\n",
    "    \n",
    "    res = cv2.resize(gray*mask, (160, 120), interpolation=cv2.INTER_AREA) # the resolution for camera being used is 640x480. Hence using this size. \n",
    "                                                                            # Change the template size according to your camera\n",
    "    \n",
    "    res = cv2.Canny(mask*gray, 40, 60, L2gradient=True) \n",
    "    return res\n",
    "\n",
    "hand = templatePrep('./templates/hand.png', None, 12, None, None)\n",
    "fist = templatePrep('./templates/fist.png', None, 12, None, None)\n",
    "thumb = templatePrep('./templates/thumbsUp.png', None, 12, None, None)\n",
    "\n",
    "templates = np.array([hand, fist, thumb])\n",
    "colors = {\n",
    "    0: (0, 0, 255),\n",
    "    1: (0, 255, 0),\n",
    "    2: (255, 0, 0)\n",
    "}"
   ]
  },
  {
   "cell_type": "code",
   "execution_count": 3,
   "id": "defensive-hands",
   "metadata": {},
   "outputs": [],
   "source": [
    "displayImage(thumb)\n",
    "displayImage(fist)\n",
    "displayImage(hand)"
   ]
  },
  {
   "cell_type": "code",
   "execution_count": 4,
   "id": "circular-pennsylvania",
   "metadata": {},
   "outputs": [],
   "source": [
    "def matchTemplate(img, temp):\n",
    "    \n",
    "    res = cv2.matchTemplate(img, temp, cv2.TM_CCOEFF_NORMED)\n",
    "    min_val, max_val, min_loc, max_loc = cv2.minMaxLoc(res)\n",
    "    \n",
    "    return max_loc, max_val"
   ]
  },
  {
   "cell_type": "code",
   "execution_count": null,
   "id": "small-yellow",
   "metadata": {},
   "outputs": [],
   "source": [
    "cap = cv2.VideoCapture(0)\n",
    "\n",
    "_, ref = cap.read()\n",
    "ref = cv2.cvtColor(ref, cv2.COLOR_BGR2GRAY) # Keep the initial frame as reference to remove some background elements\n",
    "kernel = np.ones((3,3),np.uint8)\n",
    "cannyEdge = lambda x: cv2.Canny(x, 40, 60, L2gradient=True)\n",
    "\n",
    "\n",
    "while(True):\n",
    "    \n",
    "    ret, frame = cap.read()\n",
    "\n",
    "    gray = cv2.cvtColor(frame, cv2.COLOR_BGR2GRAY)\n",
    "    diff = cv2.absdiff(ref, gray)  #Computing the difference between current frame and the reference frame\n",
    "    \n",
    "    thresh, threshImage =  cv2.threshold(diff,0,255,cv2.THRESH_BINARY+cv2.THRESH_OTSU) # Binary thresholding the resultant image \n",
    "    mask = (threshImage>0).astype('uint8')\n",
    "    mask = cv2.erode(mask,kernel,iterations = 5)\n",
    "    mask = cv2.dilate(mask,kernel,iterations = 10)\n",
    "    \n",
    "    thresh, threshImage =  cv2.threshold(mask*gray,0,255,cv2.THRESH_BINARY+cv2.THRESH_OTSU) \n",
    "    mask = (threshImage>0).astype('uint8')\n",
    "    mask = cv2.erode(mask,kernel,iterations = 5)\n",
    "    mask = cv2.dilate(mask,kernel,iterations = 5)\n",
    "    \n",
    "    img = mask*gray # masking the original gray image to completely remove background\n",
    "    pyr = [img] # constructing pyramids\n",
    "    for i in range(2):\n",
    "        pyr.append(cv2.resize(img, None, fx=0.5**(i+1), fy=0.5**(i+1), interpolation=cv2.INTER_AREA))\n",
    "        \n",
    "    locs, vals = zip(*[matchTemplate(i, templates[j]) for j in range(templates.shape[0]) for i in pyr])\n",
    "    index = vals.index(max(vals)) \n",
    "\n",
    "    tLeft = locs[index]\n",
    "    bRight = tLeft[0]+160, tLeft[1]+120\n",
    "    \n",
    "    pyIndex = index%templates.shape[0]\n",
    "    tLeft = tuple(np.array(tLeft)*2**pyIndex)\n",
    "    bRight = tuple(np.array(bRight)*2**pyIndex)\n",
    "    \n",
    "    \n",
    "    cv2.rectangle(frame, tLeft, bRight, colors[index//templates.shape[0]], 2)\n",
    "    \n",
    "    cv2.imshow('detections', frame)\n",
    "    cv2.imshow('img', img)\n",
    "\n",
    "    \n",
    "    if cv2.waitKey(1) & 0xFF == ord('q'):\n",
    "        break\n",
    "\n",
    "\n",
    "cap.release()\n",
    "cv2.destroyAllWindows()"
   ]
  },
  {
   "cell_type": "code",
   "execution_count": null,
   "id": "scenic-certification",
   "metadata": {},
   "outputs": [],
   "source": []
  }
 ],
 "metadata": {
  "kernelspec": {
   "display_name": "Python 3",
   "language": "python",
   "name": "python3"
  },
  "language_info": {
   "codemirror_mode": {
    "name": "ipython",
    "version": 3
   },
   "file_extension": ".py",
   "mimetype": "text/x-python",
   "name": "python",
   "nbconvert_exporter": "python",
   "pygments_lexer": "ipython3",
   "version": "3.9.1"
  }
 },
 "nbformat": 4,
 "nbformat_minor": 5
}
