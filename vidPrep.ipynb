{
 "cells": [
  {
   "cell_type": "code",
   "execution_count": 1,
   "id": "limited-albany",
   "metadata": {},
   "outputs": [],
   "source": [
    "import cv2\n",
    "import numpy as np\n",
    "\n",
    "from utils import displayImage, snap"
   ]
  },
  {
   "cell_type": "code",
   "execution_count": 2,
   "id": "looking-convention",
   "metadata": {},
   "outputs": [],
   "source": [
    "# Preprocessing the template Image\n",
    "\n",
    "\n",
    "def templatePrep(imgP, e1, d1, e2, d2):\n",
    "    \n",
    "    img = cv2.imread(imgP)\n",
    "    gray = cv2.cvtColor(img, cv2.COLOR_BGR2GRAY)\n",
    "    thresh, threshImage = cv2.threshold(gray,0,255,cv2.THRESH_BINARY+cv2.THRESH_OTSU)\n",
    "    mask = (threshImage>0).astype('uint8')\n",
    "    kernel = np.ones((5,5),np.uint8)\n",
    "#     mask = cv2.erode(mask,kernel,iterations = e1)\n",
    "    mask = cv2.dilate(mask,kernel,iterations = d1)\n",
    "    \n",
    "#     thresh, threshImage = cv2.threshold(mask*gray,0,255,cv2.THRESH_BINARY+cv2.THRESH_OTSU)\n",
    "#     mask = (threshImage>0).astype('uint8')\n",
    "#     mask = cv2.erode(mask,kernel,iterations = e2)\n",
    "#     mask = cv2.dilate(mask,kernel,iterations = d2)\n",
    "    \n",
    "    res = cv2.resize(gray*mask, (160, 120), interpolation=cv2.INTER_AREA) # the resolution for camera being used is 640x480. Hence using this size. \n",
    "                                                                            # Change the template size according to your camera\n",
    "    \n",
    "    res = cv2.Canny(res, 40, 60, L2gradient=True) \n",
    "    return res\n",
    "\n",
    "hand = templatePrep('./templates/hand.png', None, 12, None, None)\n",
    "fist = templatePrep('./templates/fist.png', None, 12, None, None)\n",
    "thumb = templatePrep('./templates/thumbsUp.png', None, 12, None, None)\n",
    "\n",
    "templates = np.array([hand, fist, thumb])\n",
    "colors = {\n",
    "    0: (0, 0, 255),\n",
    "    1: (0, 255, 0),\n",
    "    2: (255, 0, 0)\n",
    "}"
   ]
  },
  {
   "cell_type": "code",
   "execution_count": 3,
   "id": "eleven-dressing",
   "metadata": {},
   "outputs": [],
   "source": [
    "displayImage(thumb)\n",
    "displayImage(fist)\n",
    "displayImage(hand)"
   ]
  },
  {
   "cell_type": "code",
   "execution_count": 4,
   "id": "central-certificate",
   "metadata": {},
   "outputs": [],
   "source": [
    "def matchTemplate(img, temp):\n",
    "    \n",
    "    res = cv2.matchTemplate(img, temp, cv2.TM_CCOEFF_NORMED)\n",
    "    min_val, max_val, min_loc, max_loc = cv2.minMaxLoc(res)\n",
    "    \n",
    "    return max_loc, max_val"
   ]
  },
  {
   "cell_type": "code",
   "execution_count": 5,
   "id": "respiratory-migration",
   "metadata": {},
   "outputs": [],
   "source": [
    "def getBestMatch(frame, refEdge, thresh):\n",
    "    gray = cv2.cvtColor(frame, cv2.COLOR_BGR2GRAY)\n",
    "    grayEdge = cannyEdge(gray)\n",
    "    \n",
    "    img = grayEdge*(grayEdge!=refEdge)\n",
    "    \n",
    "    pyr = [img] # constructing pyramids\n",
    "    for i in range(2):\n",
    "        pyr.append(cv2.resize(img, None, fx=0.5**(i+1), fy=0.5**(i+1), interpolation=cv2.INTER_AREA))\n",
    "        \n",
    "    locs, vals = zip(*[matchTemplate(i, templates[j]) for j in range(templates.shape[0]) for i in pyr])\n",
    "    index = vals.index(max(vals)) \n",
    "\n",
    "    if vals[index]>=thresh:\n",
    "        tLeft = locs[index]\n",
    "        bRight = tLeft[0]+160, tLeft[1]+120\n",
    "\n",
    "        pyIndex = index%templates.shape[0]\n",
    "        tLeft = tuple(np.array(tLeft)*2**pyIndex)\n",
    "        bRight = tuple(np.array(bRight)*2**pyIndex)\n",
    "\n",
    "\n",
    "        cv2.rectangle(frame, tLeft, bRight, colors[index//templates.shape[0]], 2)\n",
    "    \n",
    "    return vals[index], img\n"
   ]
  },
  {
   "cell_type": "code",
   "execution_count": 6,
   "id": "bored-lighting",
   "metadata": {},
   "outputs": [],
   "source": [
    "cap = cv2.VideoCapture(0)\n",
    "\n",
    "_, ref = cap.read()\n",
    "ref = cv2.medianBlur(ref, 5)\n",
    "ref = cv2.cvtColor(ref, cv2.COLOR_BGR2GRAY) # Keep the initial frame as reference to remove some background elements\n",
    "kernel = np.ones((2,2),np.uint8)\n",
    "cannyEdge = lambda x: cv2.Canny(x, 40, 60, L2gradient=True)\n",
    "\n",
    "refEdge = cannyEdge(ref)\n",
    "displayImage(refEdge)\n",
    "\n",
    "tFrame = cap.read()[1]\n",
    "tFrame = cv2.medianBlur(tFrame, 5)\n",
    "thresh, _ = getBestMatch(tFrame, refEdge, np.inf)\n",
    "\n",
    "while(True):\n",
    "    \n",
    "    ret, frame = cap.read()\n",
    "    frame = cv2.medianBlur(frame, 5)\n",
    "    \n",
    "    _, img = getBestMatch(frame, refEdge, thresh)\n",
    "    \n",
    "    cv2.imshow('detections', frame)\n",
    "    cv2.imshow('img', img)\n",
    "\n",
    "    \n",
    "    if cv2.waitKey(1) & 0xFF == ord('q'):\n",
    "        break\n",
    "    \n",
    "\n",
    "cap.release()\n",
    "cv2.destroyAllWindows()"
   ]
  },
  {
   "cell_type": "code",
   "execution_count": null,
   "id": "southwest-cream",
   "metadata": {},
   "outputs": [],
   "source": []
  }
 ],
 "metadata": {
  "kernelspec": {
   "display_name": "Python 3",
   "language": "python",
   "name": "python3"
  },
  "language_info": {
   "codemirror_mode": {
    "name": "ipython",
    "version": 3
   },
   "file_extension": ".py",
   "mimetype": "text/x-python",
   "name": "python",
   "nbconvert_exporter": "python",
   "pygments_lexer": "ipython3",
   "version": "3.9.1"
  }
 },
 "nbformat": 4,
 "nbformat_minor": 5
}
